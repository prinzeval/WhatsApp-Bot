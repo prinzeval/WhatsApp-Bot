{
 "cells": [
  {
   "cell_type": "code",
   "execution_count": 52,
   "metadata": {},
   "outputs": [
    {
     "name": "stdout",
     "output_type": "stream",
     "text": [
      "Found span with 'unread messages':\n",
      "<span aria-label=\"15 unread messages\" class=\"x1rg5ohu x173ssrc x1xaadd7 x682dto x1e01kqd x12j7j87 x9bpaai x1pg5gke x1s688f xo5v014 x1u28eo4 x2b8uid x16dsc37 x18ba5f9 x1sbl2l xy9co9w x5r174s x7h3shv\">15</span>\n"
     ]
    },
    {
     "ename": "AttributeError",
     "evalue": "'NoneType' object has no attribute 'text'",
     "output_type": "error",
     "traceback": [
      "\u001b[1;31m---------------------------------------------------------------------------\u001b[0m",
      "\u001b[1;31mAttributeError\u001b[0m                            Traceback (most recent call last)",
      "Cell \u001b[1;32mIn[52], line 18\u001b[0m\n\u001b[0;32m     16\u001b[0m     \u001b[38;5;28;01mif\u001b[39;00m \u001b[38;5;124m'\u001b[39m\u001b[38;5;124munread message\u001b[39m\u001b[38;5;124m'\u001b[39m \u001b[38;5;129;01min\u001b[39;00m span\u001b[38;5;241m.\u001b[39mget(\u001b[38;5;124m'\u001b[39m\u001b[38;5;124maria-label\u001b[39m\u001b[38;5;124m'\u001b[39m, \u001b[38;5;124m'\u001b[39m\u001b[38;5;124m'\u001b[39m)\u001b[38;5;241m.\u001b[39mlower():\n\u001b[0;32m     17\u001b[0m         \u001b[38;5;28mprint\u001b[39m(\u001b[38;5;124m\"\u001b[39m\u001b[38;5;124mFound span with \u001b[39m\u001b[38;5;124m'\u001b[39m\u001b[38;5;124munread messages\u001b[39m\u001b[38;5;124m'\u001b[39m\u001b[38;5;124m:\u001b[39m\u001b[38;5;124m\"\u001b[39m)\n\u001b[1;32m---> 18\u001b[0m         \u001b[38;5;28mprint\u001b[39m(span)\u001b[38;5;241m.\u001b[39mtext\n\u001b[0;32m     19\u001b[0m         \u001b[38;5;28;01mbreak\u001b[39;00m\n\u001b[0;32m     20\u001b[0m \u001b[38;5;28;01melse\u001b[39;00m:\n",
      "\u001b[1;31mAttributeError\u001b[0m: 'NoneType' object has no attribute 'text'"
     ]
    }
   ],
   "source": [
    "from bs4 import BeautifulSoup\n",
    "\n",
    "# Sample HTML content (replace this with the actual HTML content or file read)\n",
    "html_content = \"\"\"\n",
    "<div class=\"x10l6tqk xh8yej3 x1g42fcv\" role=\"listitem\" style=\"z-index: 340; transition: none; height: 72px; transform: translateY(739px);\"><div class=\"x1n2onr6\"><div aria-selected=\"false\" class=\"\" role=\"row\" tabindex=\"-1\"><div class=\"_ak72 _ak73 _ak7n\"><div class=\"_ak8n\"><div class=\"_ak8h\"><div class=\"x1n2onr6 x1f2iure x168nmei x13lgxp2 x5pf9jr xo71vjh\" role=\"button\" style=\"height: 49px; width: 49px; cursor: pointer;\"><img alt=\"\" class=\"x1n2onr6 x1lliihq xh8yej3 x5yr21d x6ikm8r x10wlt62 xl1xv1r x115dhu7 x17vty23 x1f2iure x168nmei x13lgxp2 x5pf9jr xo71vjh x1hc1fzr _ao3e\" draggable=\"false\" src=\"https://media-otp1-1.cdn.whatsapp.net/v/t61.24694-24/410972173_1060734435114792_366528278313731587_n.jpg?stp=dst-jpg_s96x96&amp;ccb=11-4&amp;oh=01_Q5AaIFHDpK7PtVn-9i2cDjA1NJWmxKtKiAyhHOChuKogMZEi&amp;oe=66B06BC5&amp;_nc_sid=e6ed6c&amp;_nc_cat=104\" style=\"visibility: visible;\" tabindex=\"-1\"/></div></div></div><div class=\"_ak8l\"><div aria-colindex=\"2\" class=\"_ak8o\" role=\"gridcell\"><div class=\"_ak8q\"><span aria-label=\"\" class=\"x1iyjqo2 x6ikm8r x10wlt62 x1n2onr6 xlyipyv xuxw1ft x1rg5ohu _ao3e\" dir=\"auto\" style=\"min-height: 0px;\" title=\"Müĝïŵ@r@\">Müĝïŵ@r@</span></div><div class=\"_ak8i\">12:10</div></div><div class=\"_ak8j\"><div class=\"_ak8k\"><span class=\"x78zum5 x1cy8zhl\" title=\"‪Who's watched Cobra Kai 🔥‬\"><div class=\"_aou8 _aj_h\"><span aria-label=\"Maybe Jøyböy❄️💧\" class=\"x1rg5ohu _ao3e\" dir=\"auto\" style=\"min-height: 0px;\">~ Jøyböy<img alt=\"❄️\" class=\"b7 emoji wa _ao3e\" crossorigin=\"anonymous\" draggable=\"false\" src=\"data:image/gif;base64,R0lGODlhAQABAIAAAAAAAP///yH5BAEAAAAALAAAAAABAAEAAAIBRAA7\" style=\"background-position: 0px -60px;\" tabindex=\"-1\"/><img alt=\"💧\" class=\"b72 emoji wa _ao3e\" crossorigin=\"anonymous\" draggable=\"false\" src=\"data:image/gif;base64,R0lGODlhAQABAIAAAAAAAP///yH5BAEAAAAALAAAAAABAAEAAAIBRAA7\" style=\"background-position: 0px 0px;\" tabindex=\"-1\"/></span></div><span>: </span><div class=\"x1rg5ohu x1c4vz4f x2lah0s xdl72j9 x1ozewix x16dsc37 x1qx5ct2 xeyog9w\"><span class=\"\" data-icon=\"status-poll\"><svg class=\"\" height=\"20\" preserveaspectratio=\"xMidYMid meet\" version=\"1.1\" viewbox=\"0 0 16 20\" width=\"16\" x=\"0px\" y=\"0px\"><title>status-poll</title><path d=\"m2,5.5c0-.83.67-1.5,1.5-1.5h5c.83,0,1.5.67,1.5,1.5s-.67,1.5-1.5,1.5H3.5c-.83,0-1.5-.67-1.5-1.5Z\" fill=\"currentColor\"></path><path d=\"m2,9.5c0-.83.67-1.5,1.5-1.5h9c.83,0,1.5.67,1.5,1.5s-.67,1.5-1.5,1.5H3.5c-.83,0-1.5-.67-1.5-1.5Z\" fill=\"currentColor\"></path><path d=\"m3.5,12c-.83,0-1.5.67-1.5,1.5s.67,1.5,1.5,1.5h3c.83,0,1.5-.67,1.5-1.5s-.67-1.5-1.5-1.5h-3Z\" fill=\"currentColor\"></path></svg></span></div><span aria-label=\"\" class=\"x1iyjqo2 x6ikm8r x10wlt62 x1n2onr6 xlyipyv xuxw1ft x1rg5ohu _ao3e\" dir=\"ltr\" style=\"min-height: 0px;\">Who's watched Cobra Kai <img alt=\"🔥\" class=\"b77 emoji wa _ao3e\" crossorigin=\"anonymous\" draggable=\"false\" src=\"data:image/gif;base64,R0lGODlhAQABAIAAAAAAAP///yH5BAEAAAAALAAAAAABAAEAAAIBRAA7\" style=\"background-position: 0px -20px;\" tabindex=\"-1\"/></span></span></div><div aria-colindex=\"1\" class=\"_ak8i\" role=\"gridcell\"><span class=\"\"><div class=\"_ahlk\"><span aria-label=\"15 unread messages\" class=\"x1rg5ohu x173ssrc x1xaadd7 x682dto x1e01kqd x12j7j87 x9bpaai x1pg5gke x1s688f xo5v014 x1u28eo4 x2b8uid x16dsc37 x18ba5f9 x1sbl2l xy9co9w x5r174s x7h3shv\">15</span></div></span><span class=\"\"></span><span class=\"\"></span></div></div></div></div></div></div></div>\n",
    "\"\"\"\n",
    "\n",
    "# Initialize BeautifulSoup\n",
    "soup = BeautifulSoup(html_content, 'html.parser')\n",
    "\n",
    "# Find all span elements\n",
    "spans = soup.find_all('span')\n",
    "\n",
    "# Check each span to see if it contains the text \"unread messages\"\n",
    "for span in spans:\n",
    "    if 'unread message' in span.get('aria-label', '').lower():\n",
    "        print(\"Found span with 'unread messages':\")\n",
    "        print(span)\n",
    "        break\n",
    "else:\n",
    "    print(\"No span with 'unread messages' found.\")\n"
   ]
  },
  {
   "cell_type": "code",
   "execution_count": 3,
   "metadata": {},
   "outputs": [
    {
     "ename": "SessionNotCreatedException",
     "evalue": "Message: session not created: Chrome failed to start: exited normally.\n  (session not created: DevToolsActivePort file doesn't exist)\n  (The process started from chrome location C:\\Program Files\\Google\\Chrome\\Application\\chrome.exe is no longer running, so ChromeDriver is assuming that Chrome has crashed.)\nStacktrace:\n\tGetHandleVerifier [0x00007FF7BE3B9632+30946]\n\t(No symbol) [0x00007FF7BE36E3C9]\n\t(No symbol) [0x00007FF7BE266FDA]\n\t(No symbol) [0x00007FF7BE2A0847]\n\t(No symbol) [0x00007FF7BE29C4FA]\n\t(No symbol) [0x00007FF7BE2E78B9]\n\t(No symbol) [0x00007FF7BE2E6F20]\n\t(No symbol) [0x00007FF7BE2DC813]\n\t(No symbol) [0x00007FF7BE2AA6E5]\n\t(No symbol) [0x00007FF7BE2AB021]\n\tGetHandleVerifier [0x00007FF7BE4EF83D+1301229]\n\tGetHandleVerifier [0x00007FF7BE4FBDB7+1351783]\n\tGetHandleVerifier [0x00007FF7BE4F2A03+1313971]\n\tGetHandleVerifier [0x00007FF7BE3EDD06+245686]\n\t(No symbol) [0x00007FF7BE37758F]\n\t(No symbol) [0x00007FF7BE373804]\n\t(No symbol) [0x00007FF7BE373992]\n\t(No symbol) [0x00007FF7BE36A3EF]\n\tBaseThreadInitThunk [0x00007FFC2C817374+20]\n\tRtlUserThreadStart [0x00007FFC2CCBCC91+33]\n",
     "output_type": "error",
     "traceback": [
      "\u001b[1;31m---------------------------------------------------------------------------\u001b[0m",
      "\u001b[1;31mSessionNotCreatedException\u001b[0m                Traceback (most recent call last)",
      "Cell \u001b[1;32mIn[3], line 76\u001b[0m\n\u001b[0;32m     73\u001b[0m         driver\u001b[38;5;241m.\u001b[39mquit()\n\u001b[0;32m     75\u001b[0m \u001b[38;5;28;01mif\u001b[39;00m \u001b[38;5;18m__name__\u001b[39m \u001b[38;5;241m==\u001b[39m \u001b[38;5;124m\"\u001b[39m\u001b[38;5;124m__main__\u001b[39m\u001b[38;5;124m\"\u001b[39m:\n\u001b[1;32m---> 76\u001b[0m     main()\n",
      "Cell \u001b[1;32mIn[3], line 20\u001b[0m, in \u001b[0;36mmain\u001b[1;34m()\u001b[0m\n\u001b[0;32m     17\u001b[0m service \u001b[38;5;241m=\u001b[39m Service(cf\u001b[38;5;241m.\u001b[39mlocal[\u001b[38;5;124m\"\u001b[39m\u001b[38;5;124mexecutablePath\u001b[39m\u001b[38;5;124m\"\u001b[39m])\n\u001b[0;32m     19\u001b[0m \u001b[38;5;66;03m# Initialize Chrome WebDriver\u001b[39;00m\n\u001b[1;32m---> 20\u001b[0m driver \u001b[38;5;241m=\u001b[39m webdriver\u001b[38;5;241m.\u001b[39mChrome(service\u001b[38;5;241m=\u001b[39mservice, options\u001b[38;5;241m=\u001b[39moptions)\n\u001b[0;32m     22\u001b[0m \u001b[38;5;66;03m# List to store contact names\u001b[39;00m\n\u001b[0;32m     25\u001b[0m \u001b[38;5;28;01mtry\u001b[39;00m:\n\u001b[0;32m     26\u001b[0m     \u001b[38;5;66;03m# Navigate to WhatsApp Web\u001b[39;00m\n",
      "File \u001b[1;32mc:\\Users\\ELITEBOOK 1030\\anaconda3\\Lib\\site-packages\\selenium\\webdriver\\chrome\\webdriver.py:45\u001b[0m, in \u001b[0;36mWebDriver.__init__\u001b[1;34m(self, options, service, keep_alive)\u001b[0m\n\u001b[0;32m     42\u001b[0m service \u001b[38;5;241m=\u001b[39m service \u001b[38;5;28;01mif\u001b[39;00m service \u001b[38;5;28;01melse\u001b[39;00m Service()\n\u001b[0;32m     43\u001b[0m options \u001b[38;5;241m=\u001b[39m options \u001b[38;5;28;01mif\u001b[39;00m options \u001b[38;5;28;01melse\u001b[39;00m Options()\n\u001b[1;32m---> 45\u001b[0m \u001b[38;5;28msuper\u001b[39m()\u001b[38;5;241m.\u001b[39m\u001b[38;5;21m__init__\u001b[39m(\n\u001b[0;32m     46\u001b[0m     browser_name\u001b[38;5;241m=\u001b[39mDesiredCapabilities\u001b[38;5;241m.\u001b[39mCHROME[\u001b[38;5;124m\"\u001b[39m\u001b[38;5;124mbrowserName\u001b[39m\u001b[38;5;124m\"\u001b[39m],\n\u001b[0;32m     47\u001b[0m     vendor_prefix\u001b[38;5;241m=\u001b[39m\u001b[38;5;124m\"\u001b[39m\u001b[38;5;124mgoog\u001b[39m\u001b[38;5;124m\"\u001b[39m,\n\u001b[0;32m     48\u001b[0m     options\u001b[38;5;241m=\u001b[39moptions,\n\u001b[0;32m     49\u001b[0m     service\u001b[38;5;241m=\u001b[39mservice,\n\u001b[0;32m     50\u001b[0m     keep_alive\u001b[38;5;241m=\u001b[39mkeep_alive,\n\u001b[0;32m     51\u001b[0m )\n",
      "File \u001b[1;32mc:\\Users\\ELITEBOOK 1030\\anaconda3\\Lib\\site-packages\\selenium\\webdriver\\chromium\\webdriver.py:66\u001b[0m, in \u001b[0;36mChromiumDriver.__init__\u001b[1;34m(self, browser_name, vendor_prefix, options, service, keep_alive)\u001b[0m\n\u001b[0;32m     57\u001b[0m executor \u001b[38;5;241m=\u001b[39m ChromiumRemoteConnection(\n\u001b[0;32m     58\u001b[0m     remote_server_addr\u001b[38;5;241m=\u001b[39m\u001b[38;5;28mself\u001b[39m\u001b[38;5;241m.\u001b[39mservice\u001b[38;5;241m.\u001b[39mservice_url,\n\u001b[0;32m     59\u001b[0m     browser_name\u001b[38;5;241m=\u001b[39mbrowser_name,\n\u001b[1;32m   (...)\u001b[0m\n\u001b[0;32m     62\u001b[0m     ignore_proxy\u001b[38;5;241m=\u001b[39moptions\u001b[38;5;241m.\u001b[39m_ignore_local_proxy,\n\u001b[0;32m     63\u001b[0m )\n\u001b[0;32m     65\u001b[0m \u001b[38;5;28;01mtry\u001b[39;00m:\n\u001b[1;32m---> 66\u001b[0m     \u001b[38;5;28msuper\u001b[39m()\u001b[38;5;241m.\u001b[39m\u001b[38;5;21m__init__\u001b[39m(command_executor\u001b[38;5;241m=\u001b[39mexecutor, options\u001b[38;5;241m=\u001b[39moptions)\n\u001b[0;32m     67\u001b[0m \u001b[38;5;28;01mexcept\u001b[39;00m \u001b[38;5;167;01mException\u001b[39;00m:\n\u001b[0;32m     68\u001b[0m     \u001b[38;5;28mself\u001b[39m\u001b[38;5;241m.\u001b[39mquit()\n",
      "File \u001b[1;32mc:\\Users\\ELITEBOOK 1030\\anaconda3\\Lib\\site-packages\\selenium\\webdriver\\remote\\webdriver.py:212\u001b[0m, in \u001b[0;36mWebDriver.__init__\u001b[1;34m(self, command_executor, keep_alive, file_detector, options)\u001b[0m\n\u001b[0;32m    210\u001b[0m \u001b[38;5;28mself\u001b[39m\u001b[38;5;241m.\u001b[39m_authenticator_id \u001b[38;5;241m=\u001b[39m \u001b[38;5;28;01mNone\u001b[39;00m\n\u001b[0;32m    211\u001b[0m \u001b[38;5;28mself\u001b[39m\u001b[38;5;241m.\u001b[39mstart_client()\n\u001b[1;32m--> 212\u001b[0m \u001b[38;5;28mself\u001b[39m\u001b[38;5;241m.\u001b[39mstart_session(capabilities)\n\u001b[0;32m    214\u001b[0m \u001b[38;5;28mself\u001b[39m\u001b[38;5;241m.\u001b[39m_websocket_connection \u001b[38;5;241m=\u001b[39m \u001b[38;5;28;01mNone\u001b[39;00m\n\u001b[0;32m    215\u001b[0m \u001b[38;5;28mself\u001b[39m\u001b[38;5;241m.\u001b[39m_script \u001b[38;5;241m=\u001b[39m \u001b[38;5;28;01mNone\u001b[39;00m\n",
      "File \u001b[1;32mc:\\Users\\ELITEBOOK 1030\\anaconda3\\Lib\\site-packages\\selenium\\webdriver\\remote\\webdriver.py:299\u001b[0m, in \u001b[0;36mWebDriver.start_session\u001b[1;34m(self, capabilities)\u001b[0m\n\u001b[0;32m    292\u001b[0m \u001b[38;5;250m\u001b[39m\u001b[38;5;124;03m\"\"\"Creates a new session with the desired capabilities.\u001b[39;00m\n\u001b[0;32m    293\u001b[0m \n\u001b[0;32m    294\u001b[0m \u001b[38;5;124;03m:Args:\u001b[39;00m\n\u001b[0;32m    295\u001b[0m \u001b[38;5;124;03m - capabilities - a capabilities dict to start the session with.\u001b[39;00m\n\u001b[0;32m    296\u001b[0m \u001b[38;5;124;03m\"\"\"\u001b[39;00m\n\u001b[0;32m    298\u001b[0m caps \u001b[38;5;241m=\u001b[39m _create_caps(capabilities)\n\u001b[1;32m--> 299\u001b[0m response \u001b[38;5;241m=\u001b[39m \u001b[38;5;28mself\u001b[39m\u001b[38;5;241m.\u001b[39mexecute(Command\u001b[38;5;241m.\u001b[39mNEW_SESSION, caps)[\u001b[38;5;124m\"\u001b[39m\u001b[38;5;124mvalue\u001b[39m\u001b[38;5;124m\"\u001b[39m]\n\u001b[0;32m    300\u001b[0m \u001b[38;5;28mself\u001b[39m\u001b[38;5;241m.\u001b[39msession_id \u001b[38;5;241m=\u001b[39m response\u001b[38;5;241m.\u001b[39mget(\u001b[38;5;124m\"\u001b[39m\u001b[38;5;124msessionId\u001b[39m\u001b[38;5;124m\"\u001b[39m)\n\u001b[0;32m    301\u001b[0m \u001b[38;5;28mself\u001b[39m\u001b[38;5;241m.\u001b[39mcaps \u001b[38;5;241m=\u001b[39m response\u001b[38;5;241m.\u001b[39mget(\u001b[38;5;124m\"\u001b[39m\u001b[38;5;124mcapabilities\u001b[39m\u001b[38;5;124m\"\u001b[39m)\n",
      "File \u001b[1;32mc:\\Users\\ELITEBOOK 1030\\anaconda3\\Lib\\site-packages\\selenium\\webdriver\\remote\\webdriver.py:354\u001b[0m, in \u001b[0;36mWebDriver.execute\u001b[1;34m(self, driver_command, params)\u001b[0m\n\u001b[0;32m    352\u001b[0m response \u001b[38;5;241m=\u001b[39m \u001b[38;5;28mself\u001b[39m\u001b[38;5;241m.\u001b[39mcommand_executor\u001b[38;5;241m.\u001b[39mexecute(driver_command, params)\n\u001b[0;32m    353\u001b[0m \u001b[38;5;28;01mif\u001b[39;00m response:\n\u001b[1;32m--> 354\u001b[0m     \u001b[38;5;28mself\u001b[39m\u001b[38;5;241m.\u001b[39merror_handler\u001b[38;5;241m.\u001b[39mcheck_response(response)\n\u001b[0;32m    355\u001b[0m     response[\u001b[38;5;124m\"\u001b[39m\u001b[38;5;124mvalue\u001b[39m\u001b[38;5;124m\"\u001b[39m] \u001b[38;5;241m=\u001b[39m \u001b[38;5;28mself\u001b[39m\u001b[38;5;241m.\u001b[39m_unwrap_value(response\u001b[38;5;241m.\u001b[39mget(\u001b[38;5;124m\"\u001b[39m\u001b[38;5;124mvalue\u001b[39m\u001b[38;5;124m\"\u001b[39m, \u001b[38;5;28;01mNone\u001b[39;00m))\n\u001b[0;32m    356\u001b[0m     \u001b[38;5;28;01mreturn\u001b[39;00m response\n",
      "File \u001b[1;32mc:\\Users\\ELITEBOOK 1030\\anaconda3\\Lib\\site-packages\\selenium\\webdriver\\remote\\errorhandler.py:229\u001b[0m, in \u001b[0;36mErrorHandler.check_response\u001b[1;34m(self, response)\u001b[0m\n\u001b[0;32m    227\u001b[0m         alert_text \u001b[38;5;241m=\u001b[39m value[\u001b[38;5;124m\"\u001b[39m\u001b[38;5;124malert\u001b[39m\u001b[38;5;124m\"\u001b[39m]\u001b[38;5;241m.\u001b[39mget(\u001b[38;5;124m\"\u001b[39m\u001b[38;5;124mtext\u001b[39m\u001b[38;5;124m\"\u001b[39m)\n\u001b[0;32m    228\u001b[0m     \u001b[38;5;28;01mraise\u001b[39;00m exception_class(message, screen, stacktrace, alert_text)  \u001b[38;5;66;03m# type: ignore[call-arg]  # mypy is not smart enough here\u001b[39;00m\n\u001b[1;32m--> 229\u001b[0m \u001b[38;5;28;01mraise\u001b[39;00m exception_class(message, screen, stacktrace)\n",
      "\u001b[1;31mSessionNotCreatedException\u001b[0m: Message: session not created: Chrome failed to start: exited normally.\n  (session not created: DevToolsActivePort file doesn't exist)\n  (The process started from chrome location C:\\Program Files\\Google\\Chrome\\Application\\chrome.exe is no longer running, so ChromeDriver is assuming that Chrome has crashed.)\nStacktrace:\n\tGetHandleVerifier [0x00007FF7BE3B9632+30946]\n\t(No symbol) [0x00007FF7BE36E3C9]\n\t(No symbol) [0x00007FF7BE266FDA]\n\t(No symbol) [0x00007FF7BE2A0847]\n\t(No symbol) [0x00007FF7BE29C4FA]\n\t(No symbol) [0x00007FF7BE2E78B9]\n\t(No symbol) [0x00007FF7BE2E6F20]\n\t(No symbol) [0x00007FF7BE2DC813]\n\t(No symbol) [0x00007FF7BE2AA6E5]\n\t(No symbol) [0x00007FF7BE2AB021]\n\tGetHandleVerifier [0x00007FF7BE4EF83D+1301229]\n\tGetHandleVerifier [0x00007FF7BE4FBDB7+1351783]\n\tGetHandleVerifier [0x00007FF7BE4F2A03+1313971]\n\tGetHandleVerifier [0x00007FF7BE3EDD06+245686]\n\t(No symbol) [0x00007FF7BE37758F]\n\t(No symbol) [0x00007FF7BE373804]\n\t(No symbol) [0x00007FF7BE373992]\n\t(No symbol) [0x00007FF7BE36A3EF]\n\tBaseThreadInitThunk [0x00007FFC2C817374+20]\n\tRtlUserThreadStart [0x00007FFC2CCBCC91+33]\n"
     ]
    }
   ],
   "source": [
    "from selenium import webdriver\n",
    "from selenium.webdriver.chrome.service import Service\n",
    "from selenium.webdriver.chrome.options import Options\n",
    "from selenium.webdriver.support.ui import WebDriverWait\n",
    "from selenium.webdriver.support import expected_conditions as EC\n",
    "from selenium.webdriver.common.by import By\n",
    "import config as cf\n",
    "from bs4 import BeautifulSoup\n",
    "import time \n",
    "contact_names = []\n",
    "def main():\n",
    "    # Initialize Chrome options\n",
    "    options = Options()\n",
    "    options.add_argument(f\"user-data-dir={cf.local['userDataDir']}\")\n",
    "\n",
    "    # Initialize Chrome service\n",
    "    service = Service(cf.local[\"executablePath\"])\n",
    "\n",
    "    # Initialize Chrome WebDriver\n",
    "    driver = webdriver.Chrome(service=service, options=options)\n",
    "\n",
    "    # List to store contact names\n",
    "    \n",
    "\n",
    "    try:\n",
    "        # Navigate to WhatsApp Web\n",
    "        driver.get(\"https://web.whatsapp.com/\")\n",
    "        \n",
    "        # Wait until the page is loaded and the sidebar is visible\n",
    "        WebDriverWait(driver, 60).until(\n",
    "            EC.presence_of_element_located((By.XPATH, '//*[@id=\"side\"]'))\n",
    "        )\n",
    "        \n",
    "        # Get the page source\n",
    "        time.sleep(10)\n",
    "        html = driver.page_source\n",
    "        \n",
    "        soup = BeautifulSoup(html, 'html.parser')\n",
    "        div_elements = soup.find_all('div', class_='x10l6tqk xh8yej3 x1g42fcv')\n",
    "        for div in div_elements:\n",
    "            spans = div.find_all('span')\n",
    "\n",
    "            # Check each span to see if it contains the text \"unread messages\"\n",
    "            for span in spans:\n",
    "                if 'unread message' in span.get('aria-label', '').lower():\n",
    "                    print(\"Found span with 'unread messages':\")\n",
    "\n",
    "                    contact_name_span = div.find('span', dir=\"auto\", style=\"min-height: 0px;\")\n",
    "                    if contact_name_span:\n",
    "                        contact_name = contact_name_span.text\n",
    "                        print(\"Contact Name:\", contact_name)\n",
    "\n",
    "                        # Add contact name to the list\n",
    "                        contact_names.append(contact_name)\n",
    "\n",
    "                    # Find the last message\n",
    "                    last_message_span = div.find('span', class_=\"x78zum5 x1cy8zhl\")\n",
    "                    if last_message_span:\n",
    "                        print(\"Last Message:\", last_message_span['title'])\n",
    "\n",
    "                    print(\"\\n\")\n",
    "\n",
    "    except Exception as e:\n",
    "        print(f\"An error occurred: {e}\")\n",
    "        \n",
    "    finally:\n",
    "        # Print the list of contact names\n",
    "        print(\"List of Contact Names:\")\n",
    "        for name in contact_names:\n",
    "            print(name)\n",
    "        input(\"press enter to quit\")\n",
    "        # Close the browser and end the session\n",
    "        driver.quit()\n",
    "\n",
    "if __name__ == \"__main__\":\n",
    "    main()\n"
   ]
  },
  {
   "cell_type": "code",
   "execution_count": 64,
   "metadata": {},
   "outputs": [
    {
     "name": "stdout",
     "output_type": "stream",
     "text": [
      "['Joseph ', 'Anime world ', 'Gsso G20 Official', 'OC Community 8', 'Müĝïŵ@r@', \"╚»彡♛Ø₮₳₭Ʉ'₴ ₩ØⱤⱠĐ♛★«╝\", 'Jay', 'ScholarshipsAds 2', 'ScholarshipsAds 4', 'Müĝïŵ@r@']\n"
     ]
    }
   ],
   "source": [
    "print(contact_names)"
   ]
  },
  {
   "cell_type": "code",
   "execution_count": 1,
   "metadata": {},
   "outputs": [
    {
     "name": "stderr",
     "output_type": "stream",
     "text": [
      "c:\\Users\\ELITEBOOK 1030\\anaconda3\\Lib\\site-packages\\pandas\\core\\arrays\\masked.py:60: UserWarning: Pandas requires version '1.3.6' or newer of 'bottleneck' (version '1.3.5' currently installed).\n",
      "  from pandas.core import (\n",
      "--- Executing Fetch Node ---\n",
      "--- (Fetching HTML from: https://www.wired.com/) ---\n"
     ]
    },
    {
     "ename": "RuntimeError",
     "evalue": "asyncio.run() cannot be called from a running event loop",
     "output_type": "error",
     "traceback": [
      "\u001b[1;31m---------------------------------------------------------------------------\u001b[0m",
      "\u001b[1;31mRuntimeError\u001b[0m                              Traceback (most recent call last)",
      "Cell \u001b[1;32mIn[1], line 24\u001b[0m\n\u001b[0;32m      4\u001b[0m graph_config \u001b[38;5;241m=\u001b[39m {\n\u001b[0;32m      5\u001b[0m     \u001b[38;5;124m\"\u001b[39m\u001b[38;5;124mllm\u001b[39m\u001b[38;5;124m\"\u001b[39m: {\n\u001b[0;32m      6\u001b[0m         \u001b[38;5;124m\"\u001b[39m\u001b[38;5;124mmodel\u001b[39m\u001b[38;5;124m\"\u001b[39m: \u001b[38;5;124m\"\u001b[39m\u001b[38;5;124mollama/llama3\u001b[39m\u001b[38;5;124m\"\u001b[39m,\n\u001b[1;32m   (...)\u001b[0m\n\u001b[0;32m     15\u001b[0m     \u001b[38;5;124m\"\u001b[39m\u001b[38;5;124mverbose\u001b[39m\u001b[38;5;124m\"\u001b[39m: \u001b[38;5;28;01mTrue\u001b[39;00m,\n\u001b[0;32m     16\u001b[0m }\n\u001b[0;32m     18\u001b[0m smart_scraper_graph \u001b[38;5;241m=\u001b[39m SmartScraperGraph(\n\u001b[0;32m     19\u001b[0m     prompt\u001b[38;5;241m=\u001b[39m\u001b[38;5;124m\"\u001b[39m\u001b[38;5;124mList me all the titles\u001b[39m\u001b[38;5;124m\"\u001b[39m,\n\u001b[0;32m     20\u001b[0m     source\u001b[38;5;241m=\u001b[39m\u001b[38;5;124m\"\u001b[39m\u001b[38;5;124mhttps://www.wired.com/\u001b[39m\u001b[38;5;124m\"\u001b[39m,\n\u001b[0;32m     21\u001b[0m     config\u001b[38;5;241m=\u001b[39mgraph_config\n\u001b[0;32m     22\u001b[0m )\n\u001b[1;32m---> 24\u001b[0m result \u001b[38;5;241m=\u001b[39m smart_scraper_graph\u001b[38;5;241m.\u001b[39mrun()\n\u001b[0;32m     25\u001b[0m \u001b[38;5;28mprint\u001b[39m(result)\n",
      "File \u001b[1;32mc:\\Users\\ELITEBOOK 1030\\anaconda3\\Lib\\site-packages\\scrapegraphai\\graphs\\smart_scraper_graph.py:120\u001b[0m, in \u001b[0;36mSmartScraperGraph.run\u001b[1;34m(self)\u001b[0m\n\u001b[0;32m    112\u001b[0m \u001b[38;5;250m\u001b[39m\u001b[38;5;124;03m\"\"\"\u001b[39;00m\n\u001b[0;32m    113\u001b[0m \u001b[38;5;124;03mExecutes the scraping process and returns the answer to the prompt.\u001b[39;00m\n\u001b[0;32m    114\u001b[0m \n\u001b[0;32m    115\u001b[0m \u001b[38;5;124;03mReturns:\u001b[39;00m\n\u001b[0;32m    116\u001b[0m \u001b[38;5;124;03m    str: The answer to the prompt.\u001b[39;00m\n\u001b[0;32m    117\u001b[0m \u001b[38;5;124;03m\"\"\"\u001b[39;00m\n\u001b[0;32m    119\u001b[0m inputs \u001b[38;5;241m=\u001b[39m {\u001b[38;5;124m\"\u001b[39m\u001b[38;5;124muser_prompt\u001b[39m\u001b[38;5;124m\"\u001b[39m: \u001b[38;5;28mself\u001b[39m\u001b[38;5;241m.\u001b[39mprompt, \u001b[38;5;28mself\u001b[39m\u001b[38;5;241m.\u001b[39minput_key: \u001b[38;5;28mself\u001b[39m\u001b[38;5;241m.\u001b[39msource}\n\u001b[1;32m--> 120\u001b[0m \u001b[38;5;28mself\u001b[39m\u001b[38;5;241m.\u001b[39mfinal_state, \u001b[38;5;28mself\u001b[39m\u001b[38;5;241m.\u001b[39mexecution_info \u001b[38;5;241m=\u001b[39m \u001b[38;5;28mself\u001b[39m\u001b[38;5;241m.\u001b[39mgraph\u001b[38;5;241m.\u001b[39mexecute(inputs)\n\u001b[0;32m    122\u001b[0m \u001b[38;5;28;01mreturn\u001b[39;00m \u001b[38;5;28mself\u001b[39m\u001b[38;5;241m.\u001b[39mfinal_state\u001b[38;5;241m.\u001b[39mget(\u001b[38;5;124m\"\u001b[39m\u001b[38;5;124manswer\u001b[39m\u001b[38;5;124m\"\u001b[39m, \u001b[38;5;124m\"\u001b[39m\u001b[38;5;124mNo answer found.\u001b[39m\u001b[38;5;124m\"\u001b[39m)\n",
      "File \u001b[1;32mc:\\Users\\ELITEBOOK 1030\\anaconda3\\Lib\\site-packages\\scrapegraphai\\graphs\\base_graph.py:224\u001b[0m, in \u001b[0;36mBaseGraph.execute\u001b[1;34m(self, initial_state)\u001b[0m\n\u001b[0;32m    222\u001b[0m     \u001b[38;5;28;01mreturn\u001b[39;00m (result[\u001b[38;5;124m\"\u001b[39m\u001b[38;5;124m_state\u001b[39m\u001b[38;5;124m\"\u001b[39m], [])\n\u001b[0;32m    223\u001b[0m \u001b[38;5;28;01melse\u001b[39;00m:\n\u001b[1;32m--> 224\u001b[0m     \u001b[38;5;28;01mreturn\u001b[39;00m \u001b[38;5;28mself\u001b[39m\u001b[38;5;241m.\u001b[39m_execute_standard(initial_state)\n",
      "File \u001b[1;32mc:\\Users\\ELITEBOOK 1030\\anaconda3\\Lib\\site-packages\\scrapegraphai\\graphs\\base_graph.py:153\u001b[0m, in \u001b[0;36mBaseGraph._execute_standard\u001b[1;34m(self, initial_state)\u001b[0m\n\u001b[0;32m    144\u001b[0m     graph_execution_time \u001b[38;5;241m=\u001b[39m time\u001b[38;5;241m.\u001b[39mtime() \u001b[38;5;241m-\u001b[39m start_time\n\u001b[0;32m    145\u001b[0m     log_graph_execution(\n\u001b[0;32m    146\u001b[0m         graph_name\u001b[38;5;241m=\u001b[39m\u001b[38;5;28mself\u001b[39m\u001b[38;5;241m.\u001b[39mgraph_name,\n\u001b[0;32m    147\u001b[0m         llm_model\u001b[38;5;241m=\u001b[39mllm_model,\n\u001b[1;32m   (...)\u001b[0m\n\u001b[0;32m    151\u001b[0m         error_node\u001b[38;5;241m=\u001b[39merror_node\n\u001b[0;32m    152\u001b[0m     )\n\u001b[1;32m--> 153\u001b[0m     \u001b[38;5;28;01mraise\u001b[39;00m e\n\u001b[0;32m    154\u001b[0m node_exec_time \u001b[38;5;241m=\u001b[39m time\u001b[38;5;241m.\u001b[39mtime() \u001b[38;5;241m-\u001b[39m curr_time\n\u001b[0;32m    155\u001b[0m total_exec_time \u001b[38;5;241m+\u001b[39m\u001b[38;5;241m=\u001b[39m node_exec_time\n",
      "File \u001b[1;32mc:\\Users\\ELITEBOOK 1030\\anaconda3\\Lib\\site-packages\\scrapegraphai\\graphs\\base_graph.py:140\u001b[0m, in \u001b[0;36mBaseGraph._execute_standard\u001b[1;34m(self, initial_state)\u001b[0m\n\u001b[0;32m    138\u001b[0m \u001b[38;5;28;01mwith\u001b[39;00m get_openai_callback() \u001b[38;5;28;01mas\u001b[39;00m cb:\n\u001b[0;32m    139\u001b[0m     \u001b[38;5;28;01mtry\u001b[39;00m:\n\u001b[1;32m--> 140\u001b[0m         result \u001b[38;5;241m=\u001b[39m current_node\u001b[38;5;241m.\u001b[39mexecute(state)\n\u001b[0;32m    141\u001b[0m     \u001b[38;5;28;01mexcept\u001b[39;00m \u001b[38;5;167;01mException\u001b[39;00m \u001b[38;5;28;01mas\u001b[39;00m e:\n\u001b[0;32m    142\u001b[0m         error_node \u001b[38;5;241m=\u001b[39m current_node\u001b[38;5;241m.\u001b[39mnode_name\n",
      "File \u001b[1;32mc:\\Users\\ELITEBOOK 1030\\anaconda3\\Lib\\site-packages\\scrapegraphai\\nodes\\fetch_node.py:169\u001b[0m, in \u001b[0;36mFetchNode.execute\u001b[1;34m(self, state)\u001b[0m\n\u001b[0;32m    166\u001b[0m     loader_kwargs \u001b[38;5;241m=\u001b[39m \u001b[38;5;28mself\u001b[39m\u001b[38;5;241m.\u001b[39mnode_config\u001b[38;5;241m.\u001b[39mget(\u001b[38;5;124m\"\u001b[39m\u001b[38;5;124mloader_kwargs\u001b[39m\u001b[38;5;124m\"\u001b[39m, {})\n\u001b[0;32m    168\u001b[0m loader \u001b[38;5;241m=\u001b[39m ChromiumLoader([source], headless\u001b[38;5;241m=\u001b[39m\u001b[38;5;28mself\u001b[39m\u001b[38;5;241m.\u001b[39mheadless, \u001b[38;5;241m*\u001b[39m\u001b[38;5;241m*\u001b[39mloader_kwargs)\n\u001b[1;32m--> 169\u001b[0m document \u001b[38;5;241m=\u001b[39m loader\u001b[38;5;241m.\u001b[39mload()\n\u001b[0;32m    171\u001b[0m \u001b[38;5;28;01mif\u001b[39;00m \u001b[38;5;129;01mnot\u001b[39;00m document \u001b[38;5;129;01mor\u001b[39;00m \u001b[38;5;129;01mnot\u001b[39;00m document[\u001b[38;5;241m0\u001b[39m]\u001b[38;5;241m.\u001b[39mpage_content\u001b[38;5;241m.\u001b[39mstrip():\n\u001b[0;32m    172\u001b[0m     \u001b[38;5;28;01mraise\u001b[39;00m \u001b[38;5;167;01mValueError\u001b[39;00m(\u001b[38;5;124m\"\u001b[39m\u001b[38;5;124mNo HTML body content found in the document fetched by ChromiumLoader.\u001b[39m\u001b[38;5;124m\"\u001b[39m)\n",
      "File \u001b[1;32mc:\\Users\\ELITEBOOK 1030\\anaconda3\\Lib\\site-packages\\langchain_core\\document_loaders\\base.py:29\u001b[0m, in \u001b[0;36mBaseLoader.load\u001b[1;34m(self)\u001b[0m\n\u001b[0;32m     27\u001b[0m \u001b[38;5;28;01mdef\u001b[39;00m \u001b[38;5;21mload\u001b[39m(\u001b[38;5;28mself\u001b[39m) \u001b[38;5;241m-\u001b[39m\u001b[38;5;241m>\u001b[39m List[Document]:\n\u001b[0;32m     28\u001b[0m \u001b[38;5;250m    \u001b[39m\u001b[38;5;124;03m\"\"\"Load data into Document objects.\"\"\"\u001b[39;00m\n\u001b[1;32m---> 29\u001b[0m     \u001b[38;5;28;01mreturn\u001b[39;00m \u001b[38;5;28mlist\u001b[39m(\u001b[38;5;28mself\u001b[39m\u001b[38;5;241m.\u001b[39mlazy_load())\n",
      "File \u001b[1;32mc:\\Users\\ELITEBOOK 1030\\anaconda3\\Lib\\site-packages\\scrapegraphai\\docloaders\\chromium.py:108\u001b[0m, in \u001b[0;36mChromiumLoader.lazy_load\u001b[1;34m(self)\u001b[0m\n\u001b[0;32m    105\u001b[0m scraping_fn \u001b[38;5;241m=\u001b[39m \u001b[38;5;28mgetattr\u001b[39m(\u001b[38;5;28mself\u001b[39m, \u001b[38;5;124mf\u001b[39m\u001b[38;5;124m\"\u001b[39m\u001b[38;5;124mascrape_\u001b[39m\u001b[38;5;132;01m{\u001b[39;00m\u001b[38;5;28mself\u001b[39m\u001b[38;5;241m.\u001b[39mbackend\u001b[38;5;132;01m}\u001b[39;00m\u001b[38;5;124m\"\u001b[39m)\n\u001b[0;32m    107\u001b[0m \u001b[38;5;28;01mfor\u001b[39;00m url \u001b[38;5;129;01min\u001b[39;00m \u001b[38;5;28mself\u001b[39m\u001b[38;5;241m.\u001b[39murls:\n\u001b[1;32m--> 108\u001b[0m     html_content \u001b[38;5;241m=\u001b[39m asyncio\u001b[38;5;241m.\u001b[39mrun(scraping_fn(url))\n\u001b[0;32m    109\u001b[0m     metadata \u001b[38;5;241m=\u001b[39m {\u001b[38;5;124m\"\u001b[39m\u001b[38;5;124msource\u001b[39m\u001b[38;5;124m\"\u001b[39m: url}\n\u001b[0;32m    110\u001b[0m     \u001b[38;5;28;01myield\u001b[39;00m Document(page_content\u001b[38;5;241m=\u001b[39mhtml_content, metadata\u001b[38;5;241m=\u001b[39mmetadata)\n",
      "File \u001b[1;32mc:\\Users\\ELITEBOOK 1030\\anaconda3\\Lib\\asyncio\\runners.py:186\u001b[0m, in \u001b[0;36mrun\u001b[1;34m(main, debug)\u001b[0m\n\u001b[0;32m    161\u001b[0m \u001b[38;5;250m\u001b[39m\u001b[38;5;124;03m\"\"\"Execute the coroutine and return the result.\u001b[39;00m\n\u001b[0;32m    162\u001b[0m \n\u001b[0;32m    163\u001b[0m \u001b[38;5;124;03mThis function runs the passed coroutine, taking care of\u001b[39;00m\n\u001b[1;32m   (...)\u001b[0m\n\u001b[0;32m    182\u001b[0m \u001b[38;5;124;03m    asyncio.run(main())\u001b[39;00m\n\u001b[0;32m    183\u001b[0m \u001b[38;5;124;03m\"\"\"\u001b[39;00m\n\u001b[0;32m    184\u001b[0m \u001b[38;5;28;01mif\u001b[39;00m events\u001b[38;5;241m.\u001b[39m_get_running_loop() \u001b[38;5;129;01mis\u001b[39;00m \u001b[38;5;129;01mnot\u001b[39;00m \u001b[38;5;28;01mNone\u001b[39;00m:\n\u001b[0;32m    185\u001b[0m     \u001b[38;5;66;03m# fail fast with short traceback\u001b[39;00m\n\u001b[1;32m--> 186\u001b[0m     \u001b[38;5;28;01mraise\u001b[39;00m \u001b[38;5;167;01mRuntimeError\u001b[39;00m(\n\u001b[0;32m    187\u001b[0m         \u001b[38;5;124m\"\u001b[39m\u001b[38;5;124masyncio.run() cannot be called from a running event loop\u001b[39m\u001b[38;5;124m\"\u001b[39m)\n\u001b[0;32m    189\u001b[0m \u001b[38;5;28;01mwith\u001b[39;00m Runner(debug\u001b[38;5;241m=\u001b[39mdebug) \u001b[38;5;28;01mas\u001b[39;00m runner:\n\u001b[0;32m    190\u001b[0m     \u001b[38;5;28;01mreturn\u001b[39;00m runner\u001b[38;5;241m.\u001b[39mrun(main)\n",
      "\u001b[1;31mRuntimeError\u001b[0m: asyncio.run() cannot be called from a running event loop"
     ]
    }
   ],
   "source": [
    "from scrapegraphai.graphs import SmartScraperGraph\n",
    "from scrapegraphai.utils import prettify_exec_info\n",
    "\n",
    "graph_config = {\n",
    "    \"llm\": {\n",
    "        \"model\": \"ollama/llama3\",\n",
    "        \"temperature\": 0,\n",
    "        \"format\": \"json\",\n",
    "        \"base_url\":\"127.0.0.1:11434\"\n",
    "    },\n",
    "    \"embeddings\": {\n",
    "        \"model\": \"ollama/nomic-embed-text\",\n",
    "        \"temperature\": 0,\n",
    "    },\n",
    "    \"verbose\": True,\n",
    "}\n",
    "\n",
    "smart_scraper_graph = SmartScraperGraph(\n",
    "    prompt=\"List me all the titles\",\n",
    "    source=\"https://www.wired.com/\",\n",
    "    config=graph_config\n",
    ")\n",
    "\n",
    "result = smart_scraper_graph.run()\n",
    "print(result)"
   ]
  },
  {
   "cell_type": "code",
   "execution_count": null,
   "metadata": {},
   "outputs": [],
   "source": [
    "pip install"
   ]
  }
 ],
 "metadata": {
  "kernelspec": {
   "display_name": "base",
   "language": "python",
   "name": "python3"
  },
  "language_info": {
   "codemirror_mode": {
    "name": "ipython",
    "version": 3
   },
   "file_extension": ".py",
   "mimetype": "text/x-python",
   "name": "python",
   "nbconvert_exporter": "python",
   "pygments_lexer": "ipython3",
   "version": "3.11.5"
  }
 },
 "nbformat": 4,
 "nbformat_minor": 2
}
